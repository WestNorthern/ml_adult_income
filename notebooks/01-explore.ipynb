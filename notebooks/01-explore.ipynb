{
 "cells": [
  {
   "cell_type": "code",
   "execution_count": null,
   "id": "061b8398",
   "metadata": {
    "vscode": {
     "languageId": "plaintext"
    }
   },
   "outputs": [],
   "source": [
    "from src.data import load_adult_from_openml, clean_data, split_data, save_splits\n",
    "\n",
    "# 1) load & cache raw data\n",
    "df_raw = load_adult_from_openml()\n",
    "print(\"Raw:\", df_raw.shape)\n",
    "\n",
    "# 2) clean & split\n",
    "df = clean_data(df_raw)\n",
    "print(\"Clean:\", df.shape)\n",
    "X_train, X_val, X_test, y_train, y_val, y_test = split_data(df)\n",
    "print(\"Splits →\", \n",
    "      \"train:\", X_train.shape, \n",
    "      \"val:\", X_val.shape, \n",
    "      \"test:\", X_test.shape)\n",
    "\n",
    "# 3) save the splits (optional)\n",
    "save_splits(X_train, X_val, X_test, y_train, y_val, y_test)\n"
   ]
  }
 ],
 "metadata": {
  "language_info": {
   "name": "python"
  }
 },
 "nbformat": 4,
 "nbformat_minor": 5
}
